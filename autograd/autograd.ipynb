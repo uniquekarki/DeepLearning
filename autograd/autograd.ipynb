{
 "cells": [
  {
   "cell_type": "code",
   "execution_count": 15,
   "id": "133057c9-343e-4fe0-ac09-e45c853b951d",
   "metadata": {},
   "outputs": [],
   "source": [
    "import torch\n",
    "from torch.autograd import grad\n",
    "import torch.nn.functional as F"
   ]
  },
  {
   "cell_type": "code",
   "execution_count": 16,
   "id": "067b1123-5a50-4ec7-85f8-bdf233ad6d24",
   "metadata": {},
   "outputs": [],
   "source": [
    "x = torch.tensor([3.])\n",
    "w = torch.tensor([2.], requires_grad = True)\n",
    "b = torch.tensor([1.], requires_grad = True)\n",
    "a = F.relu(x*w+b)"
   ]
  },
  {
   "cell_type": "code",
   "execution_count": 17,
   "id": "ff1ba2b6-6325-42fa-b393-b6a482eab791",
   "metadata": {},
   "outputs": [
    {
     "data": {
      "text/plain": [
       "tensor([7.], grad_fn=<ReluBackward0>)"
      ]
     },
     "execution_count": 17,
     "metadata": {},
     "output_type": "execute_result"
    }
   ],
   "source": [
    "a"
   ]
  },
  {
   "cell_type": "code",
   "execution_count": 18,
   "id": "682a10cb-1e9a-4d52-a625-1bf9467131f4",
   "metadata": {},
   "outputs": [
    {
     "data": {
      "text/plain": [
       "(tensor([3.]),)"
      ]
     },
     "execution_count": 18,
     "metadata": {},
     "output_type": "execute_result"
    }
   ],
   "source": [
    "grad(a, w, retain_graph = True)"
   ]
  },
  {
   "cell_type": "code",
   "execution_count": 19,
   "id": "c4e7de40-8bdb-4570-9a64-bb124776751f",
   "metadata": {},
   "outputs": [
    {
     "data": {
      "text/plain": [
       "(tensor([1.]),)"
      ]
     },
     "execution_count": 19,
     "metadata": {},
     "output_type": "execute_result"
    }
   ],
   "source": [
    "grad(a, b)"
   ]
  },
  {
   "cell_type": "code",
   "execution_count": 23,
   "id": "b90ec97c-6fef-4e20-8a46-7b521beede93",
   "metadata": {},
   "outputs": [
    {
     "data": {
      "text/plain": [
       "(tensor([-0.]),)"
      ]
     },
     "execution_count": 23,
     "metadata": {},
     "output_type": "execute_result"
    }
   ],
   "source": [
    "x = torch.tensor([-1.])\n",
    "w = torch.tensor([1.], requires_grad = True)\n",
    "b = torch.tensor([1.], requires_grad = True)\n",
    "\n",
    "def my_relu(z):\n",
    "    if z > 0:\n",
    "        return z\n",
    "    else:\n",
    "        z[:] = 0\n",
    "        return z\n",
    "\n",
    "a = my_relu(x*w + b)\n",
    "grad(a, w, retain_graph = False)"
   ]
  },
  {
   "cell_type": "code",
   "execution_count": null,
   "id": "d35d69d5-543a-4c47-a76f-62e86012ad6b",
   "metadata": {},
   "outputs": [],
   "source": []
  }
 ],
 "metadata": {
  "kernelspec": {
   "display_name": "Python 3",
   "language": "python",
   "name": "python3"
  },
  "language_info": {
   "codemirror_mode": {
    "name": "ipython",
    "version": 3
   },
   "file_extension": ".py",
   "mimetype": "text/x-python",
   "name": "python",
   "nbconvert_exporter": "python",
   "pygments_lexer": "ipython3",
   "version": "3.8.8"
  }
 },
 "nbformat": 4,
 "nbformat_minor": 5
}
