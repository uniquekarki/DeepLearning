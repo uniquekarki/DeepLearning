{
 "cells": [
  {
   "cell_type": "code",
   "execution_count": 72,
   "id": "8a6e64fe-66d9-4990-91da-c94588c4556f",
   "metadata": {},
   "outputs": [],
   "source": [
    "import torch\n",
    "import pandas as pd\n",
    "import numpy as np\n",
    "import matplotlib.pyplot as plt\n",
    "%matplotlib inline\n",
    "\n",
    "from torch.autograd import grad\n",
    "import torch.nn.functional as F"
   ]
  },
  {
   "cell_type": "code",
   "execution_count": 73,
   "id": "86f21516-a06a-4778-aa80-e808e5548454",
   "metadata": {},
   "outputs": [
    {
     "data": {
      "text/html": [
       "<div>\n",
       "<style scoped>\n",
       "    .dataframe tbody tr th:only-of-type {\n",
       "        vertical-align: middle;\n",
       "    }\n",
       "\n",
       "    .dataframe tbody tr th {\n",
       "        vertical-align: top;\n",
       "    }\n",
       "\n",
       "    .dataframe thead th {\n",
       "        text-align: right;\n",
       "    }\n",
       "</style>\n",
       "<table border=\"1\" class=\"dataframe\">\n",
       "  <thead>\n",
       "    <tr style=\"text-align: right;\">\n",
       "      <th></th>\n",
       "      <th>x1</th>\n",
       "      <th>x2</th>\n",
       "      <th>x3</th>\n",
       "      <th>x4</th>\n",
       "      <th>y</th>\n",
       "    </tr>\n",
       "  </thead>\n",
       "  <tbody>\n",
       "    <tr>\n",
       "      <th>145</th>\n",
       "      <td>6.7</td>\n",
       "      <td>3.0</td>\n",
       "      <td>5.2</td>\n",
       "      <td>2.3</td>\n",
       "      <td>1</td>\n",
       "    </tr>\n",
       "    <tr>\n",
       "      <th>146</th>\n",
       "      <td>6.3</td>\n",
       "      <td>2.5</td>\n",
       "      <td>5.0</td>\n",
       "      <td>1.9</td>\n",
       "      <td>1</td>\n",
       "    </tr>\n",
       "    <tr>\n",
       "      <th>147</th>\n",
       "      <td>6.5</td>\n",
       "      <td>3.0</td>\n",
       "      <td>5.2</td>\n",
       "      <td>2.0</td>\n",
       "      <td>1</td>\n",
       "    </tr>\n",
       "    <tr>\n",
       "      <th>148</th>\n",
       "      <td>6.2</td>\n",
       "      <td>3.4</td>\n",
       "      <td>5.4</td>\n",
       "      <td>2.3</td>\n",
       "      <td>1</td>\n",
       "    </tr>\n",
       "    <tr>\n",
       "      <th>149</th>\n",
       "      <td>5.9</td>\n",
       "      <td>3.0</td>\n",
       "      <td>5.1</td>\n",
       "      <td>1.8</td>\n",
       "      <td>1</td>\n",
       "    </tr>\n",
       "  </tbody>\n",
       "</table>\n",
       "</div>"
      ],
      "text/plain": [
       "      x1   x2   x3   x4  y\n",
       "145  6.7  3.0  5.2  2.3  1\n",
       "146  6.3  2.5  5.0  1.9  1\n",
       "147  6.5  3.0  5.2  2.0  1\n",
       "148  6.2  3.4  5.4  2.3  1\n",
       "149  5.9  3.0  5.1  1.8  1"
      ]
     },
     "execution_count": 73,
     "metadata": {},
     "output_type": "execute_result"
    }
   ],
   "source": [
    "df = pd.read_csv('iris.data', index_col = None, header = None)\n",
    "df.columns = ['x1', 'x2', 'x3', 'x4', 'y']\n",
    "df = df.iloc[50:150]\n",
    "df['y'] = df['y'].apply(lambda x: 0 if x == 'Iris-versicolor' else 1)\n",
    "df.tail()"
   ]
  },
  {
   "cell_type": "code",
   "execution_count": 131,
   "id": "f4eba749-85f3-4bd1-be2f-6a697961c4f6",
   "metadata": {},
   "outputs": [],
   "source": [
    "X = torch.tensor(df[['x1','x2','x3','x4']].values, dtype = torch.float)\n",
    "y = torch.tensor(df['y'].values, dtype = torch.long)\n",
    "\n",
    "torch.manual_seed(123)\n",
    "shuffle_idx = torch.randperm(y.size(0), dtype = torch.long)\n",
    "\n",
    "X, y = X[shuffle_idx], y[shuffle_idx]\n",
    "\n",
    "percent80 = int(y.size(0)*0.8)\n",
    "\n",
    "X_train, X_test = X[shuffle_idx[:percent80]], X[shuffle_idx[percent80:]]\n",
    "y_train, y_test = y[shuffle_idx[:percent80]], y[shuffle_idx[percent80:]]\n",
    "\n",
    "mu, sigma = X_train.mean(dim = 0), X_train.std(dim = 0)\n",
    "X_train = (X_train - mu)/sigma\n",
    "X_test = (X_test - mu)/sigma"
   ]
  },
  {
   "cell_type": "code",
   "execution_count": 183,
   "id": "200bfafa-66d4-444a-9899-f4f92bc667a6",
   "metadata": {},
   "outputs": [],
   "source": [
    "class MultilayerPercep(torch.nn.Module):\n",
    "    \n",
    "    def __init__(self, num_features, num_classes, num_hidden_1, num_hidden_2):\n",
    "        super(MultilayerPercep, self).__init__()\n",
    "        \n",
    "        self.my_network = torch.nn.Sequential(\n",
    "            torch.nn.Linear(num_features, num_hidden_1),\n",
    "            torch.nn.ReLU(),\n",
    "            torch.nn.Linear(num_hidden_1, num_hidden_2),\n",
    "            torch.nn.ReLU(),\n",
    "            torch.nn.Linear(num_hidden_2, num_classes),\n",
    "        )\n",
    "        \n",
    "    def forward(self, X):\n",
    "        logits = self.my_network(X)\n",
    "#         probas = F.softmax(logits, dim=1)\n",
    "        return logits"
   ]
  },
  {
   "cell_type": "code",
   "execution_count": 184,
   "id": "b01b9929-979c-4ec1-b5f6-729a09055448",
   "metadata": {},
   "outputs": [],
   "source": [
    "# class MultilayerPercep(torch.nn.Module):\n",
    "    \n",
    "#     def __init__(self, num_features, num_classes, num_hidden_1, num_hidden_2):\n",
    "#         super(MultilayerPercep, self).__init__()\n",
    "        \n",
    "#         self.linear_1 = torch.nn.Linear(num_features, num_hidden_1)\n",
    "#         self.linear_2 = torch.nn.Linear(num_hidden_1, num_hidden_2)\n",
    "#         self.linear_out = torch.nn.Linear(num_hidden_2, num_classes)\n",
    "        \n",
    "#     def forward(self, X):\n",
    "#         out = self.linear_1(X)\n",
    "#         out = F.relu(out)\n",
    "#         out = self.linear_2(out)\n",
    "#         out = F.relu(out)\n",
    "#         logits = self.linear_out(out)\n",
    "#         probas = F.softmax(logits, dim=1)\n",
    "#         return logits, probas"
   ]
  },
  {
   "cell_type": "code",
   "execution_count": 185,
   "id": "5ed65e64-37f1-4edb-91b3-7e47cae1f1e6",
   "metadata": {},
   "outputs": [],
   "source": [
    "def train(model, X, y, epochs, minibatch_size, seed = 123, learning_rate = 0.01):\n",
    "    cost_lst = []\n",
    "    model.train()\n",
    "    torch.manual_seed(seed)\n",
    "    optimizer = torch.optim.SGD(model.parameters(), lr = learning_rate)\n",
    "    for j in range(epochs):\n",
    "        \n",
    "        shuffle_idx = torch.randperm(y.size(0), dtype = torch.long)\n",
    "        minibatches = torch.split(shuffle_idx, minibatch_size)\n",
    "        for i in minibatches:\n",
    "            features = X.size(1)\n",
    "            # Forward Propagation\n",
    "            logits = model(X[i])\n",
    "#             y_train[i] = y_train[i].type(torch.LongTensor)\n",
    "            cost = F.cross_entropy(logits, y[i])\n",
    "            # resetting gradients to 0\n",
    "            optimizer.zero_grad()\n",
    "            \n",
    "            # Computes gradient\n",
    "            cost.backward()\n",
    "            \n",
    "            # Updates weights and bias\n",
    "            optimizer.step()\n",
    "            \n",
    "        model.eval()\n",
    "#         #### Logging ####\n",
    "        with torch.no_grad():\n",
    "            # context manager to\n",
    "            # avoid building graph during \"inference\"\n",
    "            # to save memory\n",
    "            logits = model(X)\n",
    "            cost = F.cross_entropy(logits, y)\n",
    "            print('Epoch: %03d' % (j+1), end=\"\")\n",
    "            print(' | Cross Entropy Error: %.5f' % cost)\n",
    "            cost_lst.append(cost)\n",
    "    \n",
    "    return cost_lst"
   ]
  },
  {
   "cell_type": "code",
   "execution_count": 187,
   "id": "06c29ab8-29c5-43a2-8db1-71e75765cf40",
   "metadata": {},
   "outputs": [
    {
     "name": "stdout",
     "output_type": "stream",
     "text": [
      "Epoch: 001 | Cross Entropy Error: 0.69840\n",
      "Epoch: 002 | Cross Entropy Error: 0.69042\n",
      "Epoch: 003 | Cross Entropy Error: 0.68240\n",
      "Epoch: 004 | Cross Entropy Error: 0.67455\n",
      "Epoch: 005 | Cross Entropy Error: 0.66682\n",
      "Epoch: 006 | Cross Entropy Error: 0.65920\n",
      "Epoch: 007 | Cross Entropy Error: 0.65169\n",
      "Epoch: 008 | Cross Entropy Error: 0.64417\n",
      "Epoch: 009 | Cross Entropy Error: 0.63666\n",
      "Epoch: 010 | Cross Entropy Error: 0.62926\n",
      "Epoch: 011 | Cross Entropy Error: 0.62189\n",
      "Epoch: 012 | Cross Entropy Error: 0.61457\n",
      "Epoch: 013 | Cross Entropy Error: 0.60744\n",
      "Epoch: 014 | Cross Entropy Error: 0.60052\n",
      "Epoch: 015 | Cross Entropy Error: 0.59370\n",
      "Epoch: 016 | Cross Entropy Error: 0.58703\n",
      "Epoch: 017 | Cross Entropy Error: 0.58056\n",
      "Epoch: 018 | Cross Entropy Error: 0.57424\n",
      "Epoch: 019 | Cross Entropy Error: 0.56809\n",
      "Epoch: 020 | Cross Entropy Error: 0.56200\n",
      "Epoch: 021 | Cross Entropy Error: 0.55607\n",
      "Epoch: 022 | Cross Entropy Error: 0.55035\n",
      "Epoch: 023 | Cross Entropy Error: 0.54470\n",
      "Epoch: 024 | Cross Entropy Error: 0.53927\n",
      "Epoch: 025 | Cross Entropy Error: 0.53401\n",
      "Epoch: 026 | Cross Entropy Error: 0.52882\n",
      "Epoch: 027 | Cross Entropy Error: 0.52376\n",
      "Epoch: 028 | Cross Entropy Error: 0.51881\n",
      "Epoch: 029 | Cross Entropy Error: 0.51399\n",
      "Epoch: 030 | Cross Entropy Error: 0.50924\n",
      "Epoch: 031 | Cross Entropy Error: 0.50458\n",
      "Epoch: 032 | Cross Entropy Error: 0.49996\n",
      "Epoch: 033 | Cross Entropy Error: 0.49539\n",
      "Epoch: 034 | Cross Entropy Error: 0.49092\n",
      "Epoch: 035 | Cross Entropy Error: 0.48649\n",
      "Epoch: 036 | Cross Entropy Error: 0.48210\n",
      "Epoch: 037 | Cross Entropy Error: 0.47778\n",
      "Epoch: 038 | Cross Entropy Error: 0.47355\n",
      "Epoch: 039 | Cross Entropy Error: 0.46939\n",
      "Epoch: 040 | Cross Entropy Error: 0.46528\n",
      "Epoch: 041 | Cross Entropy Error: 0.46123\n",
      "Epoch: 042 | Cross Entropy Error: 0.45725\n",
      "Epoch: 043 | Cross Entropy Error: 0.45337\n",
      "Epoch: 044 | Cross Entropy Error: 0.44955\n",
      "Epoch: 045 | Cross Entropy Error: 0.44579\n",
      "Epoch: 046 | Cross Entropy Error: 0.44207\n",
      "Epoch: 047 | Cross Entropy Error: 0.43836\n",
      "Epoch: 048 | Cross Entropy Error: 0.43468\n",
      "Epoch: 049 | Cross Entropy Error: 0.43102\n",
      "Epoch: 050 | Cross Entropy Error: 0.42739\n",
      "Epoch: 051 | Cross Entropy Error: 0.42377\n",
      "Epoch: 052 | Cross Entropy Error: 0.42018\n",
      "Epoch: 053 | Cross Entropy Error: 0.41660\n",
      "Epoch: 054 | Cross Entropy Error: 0.41304\n",
      "Epoch: 055 | Cross Entropy Error: 0.40954\n",
      "Epoch: 056 | Cross Entropy Error: 0.40609\n",
      "Epoch: 057 | Cross Entropy Error: 0.40265\n",
      "Epoch: 058 | Cross Entropy Error: 0.39924\n",
      "Epoch: 059 | Cross Entropy Error: 0.39584\n",
      "Epoch: 060 | Cross Entropy Error: 0.39246\n",
      "Epoch: 061 | Cross Entropy Error: 0.38909\n",
      "Epoch: 062 | Cross Entropy Error: 0.38574\n",
      "Epoch: 063 | Cross Entropy Error: 0.38240\n",
      "Epoch: 064 | Cross Entropy Error: 0.37909\n",
      "Epoch: 065 | Cross Entropy Error: 0.37578\n",
      "Epoch: 066 | Cross Entropy Error: 0.37248\n",
      "Epoch: 067 | Cross Entropy Error: 0.36922\n",
      "Epoch: 068 | Cross Entropy Error: 0.36599\n",
      "Epoch: 069 | Cross Entropy Error: 0.36279\n",
      "Epoch: 070 | Cross Entropy Error: 0.35959\n",
      "Epoch: 071 | Cross Entropy Error: 0.35640\n",
      "Epoch: 072 | Cross Entropy Error: 0.35323\n",
      "Epoch: 073 | Cross Entropy Error: 0.35007\n",
      "Epoch: 074 | Cross Entropy Error: 0.34695\n",
      "Epoch: 075 | Cross Entropy Error: 0.34384\n",
      "Epoch: 076 | Cross Entropy Error: 0.34073\n",
      "Epoch: 077 | Cross Entropy Error: 0.33755\n",
      "Epoch: 078 | Cross Entropy Error: 0.33441\n",
      "Epoch: 079 | Cross Entropy Error: 0.33128\n",
      "Epoch: 080 | Cross Entropy Error: 0.32816\n",
      "Epoch: 081 | Cross Entropy Error: 0.32505\n",
      "Epoch: 082 | Cross Entropy Error: 0.32196\n",
      "Epoch: 083 | Cross Entropy Error: 0.31888\n",
      "Epoch: 084 | Cross Entropy Error: 0.31583\n",
      "Epoch: 085 | Cross Entropy Error: 0.31280\n",
      "Epoch: 086 | Cross Entropy Error: 0.30981\n",
      "Epoch: 087 | Cross Entropy Error: 0.30686\n",
      "Epoch: 088 | Cross Entropy Error: 0.30394\n",
      "Epoch: 089 | Cross Entropy Error: 0.30106\n",
      "Epoch: 090 | Cross Entropy Error: 0.29816\n",
      "Epoch: 091 | Cross Entropy Error: 0.29528\n",
      "Epoch: 092 | Cross Entropy Error: 0.29243\n",
      "Epoch: 093 | Cross Entropy Error: 0.28961\n",
      "Epoch: 094 | Cross Entropy Error: 0.28681\n",
      "Epoch: 095 | Cross Entropy Error: 0.28404\n",
      "Epoch: 096 | Cross Entropy Error: 0.28131\n",
      "Epoch: 097 | Cross Entropy Error: 0.27864\n",
      "Epoch: 098 | Cross Entropy Error: 0.27600\n",
      "Epoch: 099 | Cross Entropy Error: 0.27339\n",
      "Epoch: 100 | Cross Entropy Error: 0.27080\n"
     ]
    }
   ],
   "source": [
    "model = MultilayerPercep(num_features = X_train.size(1), num_classes = 2, num_hidden_1 =10, num_hidden_2 = 10)\n",
    "cost_lst = train(model, X_train, y_train, epochs = 100, minibatch_size = 10, seed =123, learning_rate = 0.01)"
   ]
  },
  {
   "cell_type": "code",
   "execution_count": 174,
   "id": "523886ef-aa24-44c6-8e44-7a38a55a3683",
   "metadata": {},
   "outputs": [
    {
     "data": {
      "image/png": "[encoded data removed]",
      "text/plain": [
       "<Figure size 432x288 with 1 Axes>"
      ]
     },
     "metadata": {
      "needs_background": "light"
     },
     "output_type": "display_data"
    }
   ],
   "source": [
    "plt.plot(range(len(cost_lst)), cost_lst)\n",
    "plt.xlabel('Epochs')\n",
    "plt.ylabel('Cross entropy')\n",
    "plt.show()"
   ]
  },
  {
   "cell_type": "code",
   "execution_count": 193,
   "id": "ebdadd56-d16a-409a-bd69-a388b0d67afe",
   "metadata": {},
   "outputs": [
    {
     "data": {
      "text/plain": [
       "tensor([1, 0, 0, 0, 0, 1, 0, 1, 0, 0, 0, 0, 1, 0, 1, 0, 0, 1, 1, 0, 1, 0, 1, 0,\n",
       "        0, 0, 1, 1, 1, 0, 1, 0, 0, 0, 0, 0, 1, 1, 0, 1, 0, 0, 1, 1, 1, 1, 0, 0,\n",
       "        1, 0, 1, 1, 1, 0, 0, 1, 1, 0, 0, 0, 0, 0, 0, 0, 1, 1, 1, 0, 0, 1, 0, 0,\n",
       "        1, 1, 0, 0, 1, 0, 1, 1])"
      ]
     },
     "execution_count": 193,
     "metadata": {},
     "output_type": "execute_result"
    }
   ],
   "source": [
    "pred_max, pred_indices = torch.max(model(X_train), dim =1)\n",
    "pred_indices"
   ]
  },
  {
   "cell_type": "code",
   "execution_count": 195,
   "id": "8e8e609a-f99f-4b9c-bfbd-7079a3a3fbf6",
   "metadata": {},
   "outputs": [
    {
     "data": {
      "text/plain": [
       "tensor([1, 1, 0, 0, 0, 1, 0, 1, 0, 0, 0, 0, 0, 0, 1, 0, 0, 1, 1, 0, 1, 0, 1, 0,\n",
       "        0, 0, 1, 1, 1, 0, 1, 1, 0, 0, 0, 0, 1, 1, 0, 1, 1, 0, 1, 1, 1, 1, 0, 0,\n",
       "        1, 0, 1, 1, 1, 0, 0, 1, 1, 1, 0, 0, 0, 0, 1, 0, 1, 1, 1, 0, 0, 1, 0, 0,\n",
       "        1, 1, 0, 0, 1, 0, 1, 1])"
      ]
     },
     "execution_count": 195,
     "metadata": {},
     "output_type": "execute_result"
    }
   ],
   "source": [
    "y_train"
   ]
  },
  {
   "cell_type": "code",
   "execution_count": 197,
   "id": "a03f2119-dc8a-4112-b921-bd0b5f633674",
   "metadata": {},
   "outputs": [
    {
     "name": "stdout",
     "output_type": "stream",
     "text": [
      "Training Accuracy: 92.50\n",
      "Test Accuracy: 100.00\n"
     ]
    }
   ],
   "source": [
    "train_pred, train_ind = torch.max(model(X_train), dim =1)\n",
    "train_acc = torch.mean((train_ind == y_train).float())\n",
    "\n",
    "test_pred, test_ind = torch.max(model(X_test), dim =1)\n",
    "test_acc = torch.mean((test_ind == y_test).float())\n",
    "\n",
    "print('Training Accuracy: %.2f' % (train_acc*100))\n",
    "print('Test Accuracy: %.2f' % (test_acc*100))"
   ]
  },
  {
   "cell_type": "code",
   "execution_count": null,
   "id": "f1a52ce4-dc82-4876-8932-3b55ec578b72",
   "metadata": {},
   "outputs": [],
   "source": []
  }
 ],
 "metadata": {
  "kernelspec": {
   "display_name": "Python 3",
   "language": "python",
   "name": "python3"
  },
  "language_info": {
   "codemirror_mode": {
    "name": "ipython",
    "version": 3
   },
   "file_extension": ".py",
   "mimetype": "text/x-python",
   "name": "python",
   "nbconvert_exporter": "python",
   "pygments_lexer": "ipython3",
   "version": "3.8.8"
  }
 },
 "nbformat": 4,
 "nbformat_minor": 5
}
