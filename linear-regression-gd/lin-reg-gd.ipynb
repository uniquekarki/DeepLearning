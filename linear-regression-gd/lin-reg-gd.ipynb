{
 "cells": [
  {
   "cell_type": "code",
   "execution_count": 1,
   "id": "667dbc08-28fe-4465-9293-ad93f487c806",
   "metadata": {},
   "outputs": [],
   "source": [
    "import numpy as np\n",
    "import pandas as pd\n",
    "import matplotlib.pyplot as plt\n",
    "%matplotlib inline\n",
    "import torch"
   ]
  },
  {
   "cell_type": "code",
   "execution_count": 2,
   "id": "443a7c4a-9a63-417c-bed5-b3f36d24139b",
   "metadata": {},
   "outputs": [
    {
     "data": {
      "text/html": [
       "<div>\n",
       "<style scoped>\n",
       "    .dataframe tbody tr th:only-of-type {\n",
       "        vertical-align: middle;\n",
       "    }\n",
       "\n",
       "    .dataframe tbody tr th {\n",
       "        vertical-align: top;\n",
       "    }\n",
       "\n",
       "    .dataframe thead th {\n",
       "        text-align: right;\n",
       "    }\n",
       "</style>\n",
       "<table border=\"1\" class=\"dataframe\">\n",
       "  <thead>\n",
       "    <tr style=\"text-align: right;\">\n",
       "      <th></th>\n",
       "      <th>x1</th>\n",
       "      <th>x2</th>\n",
       "      <th>y</th>\n",
       "    </tr>\n",
       "  </thead>\n",
       "  <tbody>\n",
       "    <tr>\n",
       "      <th>995</th>\n",
       "      <td>-0.942094</td>\n",
       "      <td>-0.835856</td>\n",
       "      <td>-22.324428</td>\n",
       "    </tr>\n",
       "    <tr>\n",
       "      <th>996</th>\n",
       "      <td>1.222445</td>\n",
       "      <td>-0.403177</td>\n",
       "      <td>-52.121493</td>\n",
       "    </tr>\n",
       "    <tr>\n",
       "      <th>997</th>\n",
       "      <td>-0.112466</td>\n",
       "      <td>-1.688230</td>\n",
       "      <td>-57.043196</td>\n",
       "    </tr>\n",
       "    <tr>\n",
       "      <th>998</th>\n",
       "      <td>-0.403459</td>\n",
       "      <td>-0.412272</td>\n",
       "      <td>-27.701833</td>\n",
       "    </tr>\n",
       "    <tr>\n",
       "      <th>999</th>\n",
       "      <td>0.021351</td>\n",
       "      <td>-0.499017</td>\n",
       "      <td>-9.804714</td>\n",
       "    </tr>\n",
       "  </tbody>\n",
       "</table>\n",
       "</div>"
      ],
      "text/plain": [
       "           x1        x2          y\n",
       "995 -0.942094 -0.835856 -22.324428\n",
       "996  1.222445 -0.403177 -52.121493\n",
       "997 -0.112466 -1.688230 -57.043196\n",
       "998 -0.403459 -0.412272 -27.701833\n",
       "999  0.021351 -0.499017  -9.804714"
      ]
     },
     "execution_count": 2,
     "metadata": {},
     "output_type": "execute_result"
    }
   ],
   "source": [
    "df = pd.read_csv('lin-reg-data.csv', index_col = 0)\n",
    "df.tail()"
   ]
  },
  {
   "cell_type": "code",
   "execution_count": 35,
   "id": "f1cb94a7-190a-4485-b913-b052977a9deb",
   "metadata": {},
   "outputs": [],
   "source": [
    "X = torch.tensor(df[['x1','x2']].values, dtype = torch.float)\n",
    "y = torch.tensor(df['y'].values,dtype = torch.float)\n",
    "\n",
    "torch.manual_seed(123)\n",
    "shuffle_idx = torch.randperm(y.size(0), dtype = torch.long)\n",
    "\n",
    "X, y = X[shuffle_idx], y[shuffle_idx]\n",
    "\n",
    "percent80 = int(shuffle_idx.size(0)*0.8)\n",
    "\n",
    "X_train, X_test = X[:percent80], X[percent80:]\n",
    "y_train, y_test = y[:percent80], y[percent80:]\n",
    "\n",
    "mu, std = X_train.mean(dim=0), X_train.std(dim=0)\n",
    "X_train = (X_train - mu) / std\n",
    "X_test = (X_test - mu) / std"
   ]
  },
  {
   "cell_type": "code",
   "execution_count": 36,
   "id": "244d4dc9-07ae-487e-b2ee-ad71e8481f1b",
   "metadata": {},
   "outputs": [],
   "source": [
    "class LinearRegression():\n",
    "    def __init__(self, num_features):\n",
    "        self.num_features = num_features\n",
    "        self.weights = torch.zeros(num_features,1, dtype = torch.float)\n",
    "        self.bias = torch.zeros(1, dtype = torch.float)\n",
    "        \n",
    "    def forward(self, X):\n",
    "        net_input = torch.add(torch.mm(X, self.weights), self.bias)\n",
    "        activations = net_input\n",
    "        return activations.view(-1)\n",
    "    \n",
    "    def backward(self, X, yhat, y):\n",
    "        grad_loss_outer = 2 * (yhat - y)\n",
    "        \n",
    "        grad_weight_inner = X\n",
    "        grad_bias_inner = 1\n",
    "        \n",
    "        grad_loss_weights = torch.mm(grad_weight_inner.t(),grad_loss_outer.view(-1,1)) / y.size(0)\n",
    "        grad_loss_bias = torch.sum(grad_loss_outer) / y.size(0)\n",
    "        \n",
    "        return (-1)*grad_loss_weights, (-1)*grad_loss_bias"
   ]
  },
  {
   "cell_type": "code",
   "execution_count": 37,
   "id": "17a3723d-a300-468c-8c56-a59decccb92b",
   "metadata": {},
   "outputs": [],
   "source": [
    "def loss(yhat, y):\n",
    "    return torch.mean((yhat-y)**2)\n",
    "\n",
    "def train(model, X, y, epochs, learning_rate):\n",
    "    cost = []\n",
    "    for i in range(epochs):\n",
    "        torch.manual_seed(123)\n",
    "        shuffle_idx = torch.randperm(y.size(0), dtype = torch.long)\n",
    "\n",
    "        X, y = X[shuffle_idx], y[shuffle_idx]\n",
    "        yhat = model.forward(X)\n",
    "        \n",
    "        neg_grad_weights, neg_grad_bias = model.backward(X,yhat,y)\n",
    "        model.weights += learning_rate*(neg_grad_weights)\n",
    "        model.bias += learning_rate*(neg_grad_bias)\n",
    "        \n",
    "        yhat = model.forward(X) # Yhat after updating weights\n",
    "        curr_loss = loss(yhat, y)\n",
    "        print('Epoch: %03d' % (i+1), end=\"\")\n",
    "        print(' | MSE: %.5f' % curr_loss)\n",
    "        cost.append(curr_loss)\n",
    "    return cost"
   ]
  },
  {
   "cell_type": "code",
   "execution_count": 38,
   "id": "c96d9320-9f9a-4f1b-a16c-1eedf277bfa2",
   "metadata": {},
   "outputs": [
    {
     "name": "stdout",
     "output_type": "stream",
     "text": [
      "Epoch: 001 | MSE: 1674.03052\n",
      "Epoch: 002 | MSE: 1428.12463\n",
      "Epoch: 003 | MSE: 1228.87891\n",
      "Epoch: 004 | MSE: 1067.43958\n",
      "Epoch: 005 | MSE: 936.63232\n",
      "Epoch: 006 | MSE: 830.64484\n",
      "Epoch: 007 | MSE: 744.76740\n",
      "Epoch: 008 | MSE: 675.18420\n",
      "Epoch: 009 | MSE: 618.80341\n",
      "Epoch: 010 | MSE: 573.12000\n",
      "Epoch: 011 | MSE: 536.10413\n",
      "Epoch: 012 | MSE: 506.11136\n",
      "Epoch: 013 | MSE: 481.80905\n",
      "Epoch: 014 | MSE: 462.11749\n",
      "Epoch: 015 | MSE: 446.16193\n",
      "Epoch: 016 | MSE: 433.23340\n",
      "Epoch: 017 | MSE: 422.75772\n",
      "Epoch: 018 | MSE: 414.26944\n",
      "Epoch: 019 | MSE: 407.39157\n",
      "Epoch: 020 | MSE: 401.81845\n",
      "Epoch: 021 | MSE: 397.30264\n",
      "Epoch: 022 | MSE: 393.64352\n",
      "Epoch: 023 | MSE: 390.67859\n",
      "Epoch: 024 | MSE: 388.27609\n",
      "Epoch: 025 | MSE: 386.32935\n",
      "Epoch: 026 | MSE: 384.75192\n",
      "Epoch: 027 | MSE: 383.47379\n",
      "Epoch: 028 | MSE: 382.43802\n",
      "Epoch: 029 | MSE: 381.59879\n",
      "Epoch: 030 | MSE: 380.91876\n",
      "Epoch: 031 | MSE: 380.36765\n",
      "Epoch: 032 | MSE: 379.92114\n",
      "Epoch: 033 | MSE: 379.55933\n",
      "Epoch: 034 | MSE: 379.26617\n",
      "Epoch: 035 | MSE: 379.02856\n",
      "Epoch: 036 | MSE: 378.83606\n",
      "Epoch: 037 | MSE: 378.68005\n",
      "Epoch: 038 | MSE: 378.55368\n",
      "Epoch: 039 | MSE: 378.45120\n",
      "Epoch: 040 | MSE: 378.36816\n",
      "Epoch: 041 | MSE: 378.30093\n",
      "Epoch: 042 | MSE: 378.24649\n",
      "Epoch: 043 | MSE: 378.20227\n",
      "Epoch: 044 | MSE: 378.16653\n",
      "Epoch: 045 | MSE: 378.13745\n",
      "Epoch: 046 | MSE: 378.11398\n",
      "Epoch: 047 | MSE: 378.09491\n",
      "Epoch: 048 | MSE: 378.07950\n",
      "Epoch: 049 | MSE: 378.06699\n",
      "Epoch: 050 | MSE: 378.05688\n",
      "Epoch: 051 | MSE: 378.04865\n",
      "Epoch: 052 | MSE: 378.04199\n",
      "Epoch: 053 | MSE: 378.03659\n",
      "Epoch: 054 | MSE: 378.03226\n",
      "Epoch: 055 | MSE: 378.02869\n",
      "Epoch: 056 | MSE: 378.02579\n",
      "Epoch: 057 | MSE: 378.02347\n",
      "Epoch: 058 | MSE: 378.02161\n",
      "Epoch: 059 | MSE: 378.02008\n",
      "Epoch: 060 | MSE: 378.01886\n",
      "Epoch: 061 | MSE: 378.01782\n",
      "Epoch: 062 | MSE: 378.01703\n",
      "Epoch: 063 | MSE: 378.01636\n",
      "Epoch: 064 | MSE: 378.01581\n",
      "Epoch: 065 | MSE: 378.01544\n",
      "Epoch: 066 | MSE: 378.01508\n",
      "Epoch: 067 | MSE: 378.01477\n",
      "Epoch: 068 | MSE: 378.01453\n",
      "Epoch: 069 | MSE: 378.01437\n",
      "Epoch: 070 | MSE: 378.01422\n",
      "Epoch: 071 | MSE: 378.01407\n",
      "Epoch: 072 | MSE: 378.01398\n",
      "Epoch: 073 | MSE: 378.01392\n",
      "Epoch: 074 | MSE: 378.01382\n",
      "Epoch: 075 | MSE: 378.01379\n",
      "Epoch: 076 | MSE: 378.01376\n",
      "Epoch: 077 | MSE: 378.01370\n",
      "Epoch: 078 | MSE: 378.01367\n",
      "Epoch: 079 | MSE: 378.01367\n",
      "Epoch: 080 | MSE: 378.01367\n",
      "Epoch: 081 | MSE: 378.01358\n",
      "Epoch: 082 | MSE: 378.01358\n",
      "Epoch: 083 | MSE: 378.01358\n",
      "Epoch: 084 | MSE: 378.01358\n",
      "Epoch: 085 | MSE: 378.01358\n",
      "Epoch: 086 | MSE: 378.01358\n",
      "Epoch: 087 | MSE: 378.01358\n",
      "Epoch: 088 | MSE: 378.01355\n",
      "Epoch: 089 | MSE: 378.01355\n",
      "Epoch: 090 | MSE: 378.01358\n",
      "Epoch: 091 | MSE: 378.01358\n",
      "Epoch: 092 | MSE: 378.01358\n",
      "Epoch: 093 | MSE: 378.01358\n",
      "Epoch: 094 | MSE: 378.01358\n",
      "Epoch: 095 | MSE: 378.01358\n",
      "Epoch: 096 | MSE: 378.01358\n",
      "Epoch: 097 | MSE: 378.01355\n",
      "Epoch: 098 | MSE: 378.01358\n",
      "Epoch: 099 | MSE: 378.01352\n",
      "Epoch: 100 | MSE: 378.01355\n"
     ]
    }
   ],
   "source": [
    "model = LinearRegression(num_features = X_train.size(1))\n",
    "cost = train(model, X_train,y_train, epochs = 100, learning_rate = 0.05)"
   ]
  },
  {
   "cell_type": "code",
   "execution_count": 39,
   "id": "8e3cb369-2451-4bb2-9d30-205940a9b113",
   "metadata": {},
   "outputs": [
    {
     "data": {
      "text/plain": [
       "<function matplotlib.pyplot.show(close=None, block=None)>"
      ]
     },
     "execution_count": 39,
     "metadata": {},
     "output_type": "execute_result"
    },
    {
     "data": {
      "image/png": "[encoded data removed]",
      "text/plain": [
       "<Figure size 432x288 with 1 Axes>"
      ]
     },
     "metadata": {
      "needs_background": "light"
     },
     "output_type": "display_data"
    }
   ],
   "source": [
    "plt.plot(range(len(cost)),cost)\n",
    "plt.ylabel(\"Mean Squared Error\")\n",
    "plt.xlabel(\"Epochs\")\n",
    "plt.show"
   ]
  },
  {
   "cell_type": "code",
   "execution_count": 40,
   "id": "e08e1b33-809a-4768-a85a-97c20ca0aa5a",
   "metadata": {},
   "outputs": [
    {
     "name": "stdout",
     "output_type": "stream",
     "text": [
      "Train MSE: 378.01355\n",
      "Test MSE: 401.82919\n"
     ]
    }
   ],
   "source": [
    "train_pred = model.forward(X_train)\n",
    "test_pred = model.forward(X_test)\n",
    "\n",
    "print('Train MSE: %.5f' % loss(train_pred, y_train))\n",
    "print('Test MSE: %.5f' % loss(test_pred, y_test))"
   ]
  },
  {
   "cell_type": "code",
   "execution_count": 41,
   "id": "b4ed9bd7-f650-41df-9b1e-a179685fbcce",
   "metadata": {},
   "outputs": [
    {
     "name": "stdout",
     "output_type": "stream",
     "text": [
      "Model Weights: tensor([[ 0.6590],\n",
      "        [39.9671]])\n",
      "Model Bias tensor([-1.9991])\n"
     ]
    }
   ],
   "source": [
    "print(\"Model Weights:\",model.weights)\n",
    "print(\"Model Bias\", model.bias)"
   ]
  },
  {
   "cell_type": "code",
   "execution_count": 42,
   "id": "28f23b84-bebe-43d1-9059-475612f07947",
   "metadata": {},
   "outputs": [
    {
     "name": "stdout",
     "output_type": "stream",
     "text": [
      "Analytical Weights: tensor([[ 0.6591],\n",
      "        [39.9682]])\n",
      "Analytical Bias tensor([-1.9991])\n"
     ]
    }
   ],
   "source": [
    "def analytical_sol(X,y):\n",
    "    Xb = torch.cat((torch.ones((X.size(0), 1)), X), dim = 1)\n",
    "    w = torch.zeros(X.size(1))\n",
    "    z = torch.inverse(torch.matmul(Xb.t(), Xb))\n",
    "    params = torch.matmul(z, torch.matmul(Xb.t(), y))\n",
    "    b, w = torch.tensor([params[0]]), params[1:].view(X.size(1),1)\n",
    "    return w, b\n",
    "\n",
    "w, b = analytical_sol(X_train, y_train)\n",
    "print(\"Analytical Weights:\", w)\n",
    "print(\"Analytical Bias\", b)"
   ]
  },
  {
   "cell_type": "code",
   "execution_count": null,
   "id": "a29f3c85-05d2-495a-b976-27a65fa7fd86",
   "metadata": {},
   "outputs": [],
   "source": []
  }
 ],
 "metadata": {
  "kernelspec": {
   "display_name": "Python 3",
   "language": "python",
   "name": "python3"
  },
  "language_info": {
   "codemirror_mode": {
    "name": "ipython",
    "version": 3
   },
   "file_extension": ".py",
   "mimetype": "text/x-python",
   "name": "python",
   "nbconvert_exporter": "python",
   "pygments_lexer": "ipython3",
   "version": "3.8.8"
  }
 },
 "nbformat": 4,
 "nbformat_minor": 5
}
