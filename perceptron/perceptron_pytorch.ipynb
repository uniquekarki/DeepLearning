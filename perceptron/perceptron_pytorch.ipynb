{
 "cells": [
  {
   "cell_type": "code",
   "execution_count": 1,
   "id": "134b5942-deb0-40fa-bdf9-1ce5ed3ac9e6",
   "metadata": {},
   "outputs": [],
   "source": [
    "import numpy as np\n",
    "import torch\n",
    "import matplotlib.pyplot as plt\n",
    "%matplotlib inline"
   ]
  },
  {
   "cell_type": "code",
   "execution_count": 2,
   "id": "879a698a-faa0-4965-bbc4-fe4305fd25df",
   "metadata": {},
   "outputs": [],
   "source": [
    "data = np.genfromtxt('perceptron_data.txt', delimiter = '\\t')\n",
    "X, y = data[:,:2],data[:,2]\n",
    "y = y.astype(int)"
   ]
  },
  {
   "cell_type": "code",
   "execution_count": 3,
   "id": "a0ef0b2a-49c3-4a75-97e6-5acef3622ea3",
   "metadata": {},
   "outputs": [
    {
     "name": "stdout",
     "output_type": "stream",
     "text": [
      "Class Count: [50 50]\n",
      "Features: (100, 2)\n",
      "Output class: (100,)\n"
     ]
    }
   ],
   "source": [
    "print(\"Class Count:\", np.bincount(y))\n",
    "print(\"Features:\", X.shape)\n",
    "print(\"Output class:\", y.shape)"
   ]
  },
  {
   "cell_type": "code",
   "execution_count": 4,
   "id": "6e057010-0853-498a-9a6b-5e98d82d3747",
   "metadata": {},
   "outputs": [],
   "source": [
    "shuffle_idx = np.arange(y.shape[0])\n",
    "shuffle_rng = np.random.RandomState(123)\n",
    "shuffle_rng.shuffle(shuffle_idx)\n",
    "X,y = X[shuffle_idx], y[shuffle_idx]"
   ]
  },
  {
   "cell_type": "code",
   "execution_count": 5,
   "id": "c8616db1-fd3c-46a7-95d3-05d87f87173e",
   "metadata": {},
   "outputs": [],
   "source": [
    "X_train, X_test = X[shuffle_idx[:70]], X[shuffle_idx[70:]]\n",
    "y_train, y_test = y[shuffle_idx[:70]], y[shuffle_idx[70:]]"
   ]
  },
  {
   "cell_type": "code",
   "execution_count": 6,
   "id": "30504b75-f3b7-4650-a3e5-7307321000db",
   "metadata": {},
   "outputs": [],
   "source": [
    "mu, sigma = X_train.mean(axis=0), X_train.std(axis=0)\n",
    "X_train = (X_train - mu) / sigma\n",
    "X_test = (X_test - mu) / sigma"
   ]
  },
  {
   "cell_type": "code",
   "execution_count": 7,
   "id": "b9c5cfa9-a569-4a8e-b43c-e9af8b191132",
   "metadata": {},
   "outputs": [
    {
     "data": {
      "text/plain": [
       "array([[ 1.37001499,  0.89400639],\n",
       "       [-1.47257051, -0.30436276],\n",
       "       [ 1.78644472,  1.28241061],\n",
       "       [ 0.75442323,  0.49612888],\n",
       "       [-0.70760722, -1.02433157],\n",
       "       [ 0.21125402, -1.03854148],\n",
       "       [ 0.3832576 , -0.63592734],\n",
       "       [-1.29604052, -2.21322744],\n",
       "       [ 0.6503158 ,  1.17346797],\n",
       "       [ 0.740844  ,  1.72765449],\n",
       "       [-1.13761617, -1.14274749],\n",
       "       [-2.35069406, -0.46540841],\n",
       "       [ 1.07579834,  1.48134937],\n",
       "       [-0.63518466, -0.65013725],\n",
       "       [-1.25077642, -2.04744514],\n",
       "       [-0.48128671, -1.35589615],\n",
       "       [ 0.44210094,  0.87505984],\n",
       "       [ 0.62768375,  0.7803271 ],\n",
       "       [-1.16024822, -1.13801085],\n",
       "       [-0.73023927,  0.28298022],\n",
       "       [ 0.47378581,  1.17346797],\n",
       "       [ 0.9219004 ,  0.29719013],\n",
       "       [ 0.90832117,  1.66134157],\n",
       "       [-0.44054902, -1.91955595],\n",
       "       [ 0.78158169,  0.2024574 ],\n",
       "       [-0.62160543, -1.16643068],\n",
       "       [ 0.71368554,  1.76554758],\n",
       "       [-0.79813542, -0.6311907 ],\n",
       "       [-0.98824464, -0.09121409],\n",
       "       [ 0.73179118,  0.86084993],\n",
       "       [ 0.57789324,  0.52454871],\n",
       "       [-0.60349978, -0.25225975],\n",
       "       [ 1.12106244,  0.33508323],\n",
       "       [-0.13275314, -1.00064838],\n",
       "       [ 1.20253782,  0.75190728],\n",
       "       [ 1.45149038,  0.33981987],\n",
       "       [ 0.81779297,  1.23030761],\n",
       "       [-0.95655977, -0.796973  ],\n",
       "       [ 0.04377685, -0.105424  ],\n",
       "       [ 0.6050517 ,  0.45823579],\n",
       "       [-0.27307185, -0.81591954],\n",
       "       [-1.30056693, -0.64540061],\n",
       "       [ 1.17537936,  0.77085383],\n",
       "       [ 0.01209198, -1.01959493],\n",
       "       [ 0.26557094,  1.05978868],\n",
       "       [-0.45412825, -0.67855707],\n",
       "       [ 0.59147247,  1.10715505],\n",
       "       [-0.93392772, -0.86328591],\n",
       "       [-1.75773435, -1.04327812],\n",
       "       [-0.2504398 , -0.82065618],\n",
       "       [ 0.89474194,  0.53875862],\n",
       "       [ 1.35643576,  1.00294904],\n",
       "       [-1.0606672 , -1.6827241 ],\n",
       "       [ 0.34251991,  0.63349136],\n",
       "       [-0.64423748,  0.06509492],\n",
       "       [ 1.22516987,  0.09351475],\n",
       "       [-1.81657768,  0.39192287],\n",
       "       [-0.1146475 ,  0.58612499],\n",
       "       [-0.75287132, -0.61698079],\n",
       "       [ 1.21611705,  1.28714725],\n",
       "       [ 0.20672761,  0.35402978],\n",
       "       [ 1.3292773 ,  0.54349525],\n",
       "       [ 0.55073478,  1.75607431],\n",
       "       [ 1.11200962,  0.33034659],\n",
       "       [-0.97919182, -1.10011776],\n",
       "       [-1.52688743, -0.38488558],\n",
       "       [ 2.01729163,  1.29662053],\n",
       "       [-1.30961975, -0.86802255],\n",
       "       [-1.05614079, -1.19011386],\n",
       "       [-0.69402799, -0.70224026]])"
      ]
     },
     "execution_count": 7,
     "metadata": {},
     "output_type": "execute_result"
    }
   ],
   "source": [
    "X_train"
   ]
  },
  {
   "cell_type": "code",
   "execution_count": 8,
   "id": "6a380d28-15b7-4e55-8761-1e0b902672bc",
   "metadata": {},
   "outputs": [
    {
     "data": {
      "image/png": "[encoded data removed]",
      "text/plain": [
       "<Figure size 432x288 with 1 Axes>"
      ]
     },
     "metadata": {
      "needs_background": "light"
     },
     "output_type": "display_data"
    }
   ],
   "source": [
    "plt.scatter(X_train[y_train==0,0],X_train[y_train==0,1], label = \"class 0\", marker = 'o')\n",
    "plt.scatter(X_train[y_train==1,0],X_train[y_train==1,1], label = \"class 1\", marker = 's')\n",
    "\n",
    "plt.title(\"Train data\")\n",
    "plt.xlabel(\"Feature 1\")\n",
    "plt.ylabel(\"Feature 2\")\n",
    "\n",
    "plt.xlim([-3,3])\n",
    "plt.ylim([-3,3])\n",
    "plt.legend()\n",
    "plt.show()"
   ]
  },
  {
   "cell_type": "code",
   "execution_count": 9,
   "id": "eb2746b8-7fc9-4bae-995f-420a1860715d",
   "metadata": {},
   "outputs": [
    {
     "data": {
      "image/png": "[encoded data removed]",
      "text/plain": [
       "<Figure size 432x288 with 1 Axes>"
      ]
     },
     "metadata": {
      "needs_background": "light"
     },
     "output_type": "display_data"
    }
   ],
   "source": [
    "plt.scatter(X_test[y_test==0,0], X_test[y_test==0,1], label = 'class 0', marker = 'o')\n",
    "plt.scatter(X_test[y_test==1,0], X_test[y_test==1,1], label = \"class 1\", marker = 's')\n",
    "\n",
    "plt.title(\"Test set\")\n",
    "plt.xlabel(\"Feature 1\")\n",
    "plt.ylabel(\"Feature 2\")\n",
    "\n",
    "plt.xlim([-3,3])\n",
    "plt.ylim([-3,3])\n",
    "plt.legend()\n",
    "plt.show()"
   ]
  },
  {
   "cell_type": "code",
   "execution_count": 36,
   "id": "7c2b4ef4-9e0f-4b92-8338-66e84e22cc39",
   "metadata": {},
   "outputs": [],
   "source": [
    "device = torch.device(\"cuda:0\" if torch.cuda.is_available() else \"cpu\")\n",
    "\n",
    "class Perceptron():\n",
    "    def __init__(self, features):\n",
    "        self.features = features\n",
    "        self.weights = torch.zeros(features, 1, dtype = torch.float32, device = device)\n",
    "        self.bias = torch.zeros(1, dtype = torch.float32, device = device)\n",
    "        self.ones = torch.ones(1)\n",
    "        self.zeros = torch.zeros(1)\n",
    "    \n",
    "    def forward(self,x):\n",
    "        net_input = torch.mm(x, self.weights) + self.bias\n",
    "        predictions = torch.where(net_input > 0., self.ones, self.zeros)\n",
    "        return predictions\n",
    "    \n",
    "    \n",
    "    def backward(self, x, y):\n",
    "        predictions = self.forward(x)\n",
    "        error = y - predictions\n",
    "        return error\n",
    "    \n",
    "    def train(self, x, y, epochs):\n",
    "        for j in range(epochs):\n",
    "            \n",
    "            for i in range(y.shape[0]):\n",
    "                errors = self.backward(x[i].reshape(1, self.features), y[i]).reshape(-1)\n",
    "                self.weights += (errors * x[i]).reshape(self.features,1)\n",
    "                self.bias += errors\n",
    "                \n",
    "    def evaluate(self, x, y):\n",
    "        predictions = self.forward(x).reshape(-1)\n",
    "        accuracy = torch.sum(predictions == y).float() / y.shape[0]\n",
    "        return accuracy"
   ]
  },
  {
   "cell_type": "code",
   "execution_count": 37,
   "id": "3fe7249f-1c66-4de9-a855-ef5fa1198923",
   "metadata": {},
   "outputs": [],
   "source": [
    "X_train_tensor = torch.tensor(X_train, dtype = torch.float32, device = device) \n",
    "X_test_tensor = torch.tensor(X_test, dtype = torch.float32, device = device)\n",
    "\n",
    "y_train_tensor = torch.tensor(y_train, dtype = torch.float32, device = device)\n",
    "y_test_tensor = torch.tensor(y_test, dtype = torch.float32, device = device)"
   ]
  },
  {
   "cell_type": "code",
   "execution_count": 38,
   "id": "f83caf59-5736-47c6-b846-10cc28754c87",
   "metadata": {},
   "outputs": [
    {
     "name": "stdout",
     "output_type": "stream",
     "text": [
      "Model Parameters:\n",
      "Weights: tensor([[1.2734],\n",
      "        [1.3464]])\n",
      "Bias tensor([-1.])\n"
     ]
    }
   ],
   "source": [
    "percep = Perceptron(features = 2)\n",
    "percep.train(X_train_tensor, y_train_tensor, epochs = 5)\n",
    "\n",
    "print(\"Model Parameters:\")\n",
    "print(\"Weights:\", percep.weights)\n",
    "print(\"Bias\", percep.bias)"
   ]
  },
  {
   "cell_type": "code",
   "execution_count": 48,
   "id": "c2eeb9b7-8c2d-4933-a0b1-8f87fbe123e6",
   "metadata": {},
   "outputs": [
    {
     "name": "stdout",
     "output_type": "stream",
     "text": [
      "Train set accuracy: 100.00%\n"
     ]
    }
   ],
   "source": [
    "accuracy = percep.evaluate(X_train_tensor, y_train_tensor)\n",
    "print('Train set accuracy: %.2f%%' % (accuracy*100))"
   ]
  },
  {
   "cell_type": "code",
   "execution_count": 49,
   "id": "700ba254-f290-4dce-9d9e-923a33ef4c88",
   "metadata": {},
   "outputs": [
    {
     "name": "stdout",
     "output_type": "stream",
     "text": [
      "Test set accuracy: 93.33%\n"
     ]
    }
   ],
   "source": [
    "accuracy = percep.evaluate(X_test_tensor, y_test_tensor)\n",
    "print('Test set accuracy: %.2f%%' % (accuracy*100))"
   ]
  },
  {
   "cell_type": "code",
   "execution_count": 55,
   "id": "48ce7284-ca24-499d-b82b-ce090f9db66a",
   "metadata": {},
   "outputs": [
    {
     "data": {
      "image/png": "[encoded data removed]",
      "text/plain": [
       "<Figure size 504x216 with 2 Axes>"
      ]
     },
     "metadata": {
      "needs_background": "light"
     },
     "output_type": "display_data"
    }
   ],
   "source": [
    "w, b = percep.weights, percep.bias\n",
    "\n",
    "x0_min = -2\n",
    "x1_min = ((-(w[0]*x0_min) - b[0])/w[1])\n",
    "\n",
    "x0_max = 2\n",
    "x1_max = ((-(w[0]*x0_max) - b[0])/w[1])\n",
    "\n",
    "fig, ax = plt.subplots(1, 2, sharex=True, figsize=(7, 3))\n",
    "\n",
    "ax[0].plot([x0_min, x0_max], [x1_min, x1_max])\n",
    "ax[1].plot([x0_min, x0_max], [x1_min, x1_max])\n",
    "\n",
    "ax[0].scatter(X_train[y_train == 0,0], X_train[y_train == 0,1], label='class 0', marker ='o')\n",
    "ax[0].scatter(X_train[y_train == 1,0], X_train[y_train == 1,1], label='class 1', marker ='s')\n",
    "\n",
    "ax[1].scatter(X_test[y_test == 0,0], X_test[y_test == 0,1], label='class 0', marker ='o')\n",
    "ax[1].scatter(X_test[y_test == 1,0], X_test[y_test == 1,1], label='class 1', marker ='s')\n",
    "\n",
    "ax[1].legend(loc='upper left')\n",
    "plt.show()"
   ]
  },
  {
   "cell_type": "code",
   "execution_count": null,
   "id": "84fe7d71-9bd3-4da6-adc6-7484b72fc937",
   "metadata": {},
   "outputs": [],
   "source": []
  }
 ],
 "metadata": {
  "kernelspec": {
   "display_name": "Python 3",
   "language": "python",
   "name": "python3"
  },
  "language_info": {
   "codemirror_mode": {
    "name": "ipython",
    "version": 3
   },
   "file_extension": ".py",
   "mimetype": "text/x-python",
   "name": "python",
   "nbconvert_exporter": "python",
   "pygments_lexer": "ipython3",
   "version": "3.8.8"
  }
 },
 "nbformat": 4,
 "nbformat_minor": 5
}
