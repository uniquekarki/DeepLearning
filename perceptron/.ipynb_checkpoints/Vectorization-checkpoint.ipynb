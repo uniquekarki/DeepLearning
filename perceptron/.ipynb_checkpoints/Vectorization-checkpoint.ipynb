{
 "cells": [
  {
   "cell_type": "code",
   "execution_count": 1,
   "id": "30b9f8d1-4004-49de-80df-74ce8b889e33",
   "metadata": {},
   "outputs": [],
   "source": [
    "## Vectorization"
   ]
  },
  {
   "cell_type": "code",
   "execution_count": 2,
   "id": "79eedf24-fa2c-4e92-81a5-c7ec3eb2cd09",
   "metadata": {},
   "outputs": [],
   "source": [
    "x0, x1, x2 = 1., 2., 3.\n",
    "bias, w1, w2 = 0.1, 0.3, 0.5\n",
    "\n",
    "x = [x0, x1, x2]\n",
    "w = [bias, w1, w2]"
   ]
  },
  {
   "cell_type": "code",
   "execution_count": 4,
   "id": "e98930e3-d96a-4ead-a32b-f127deb8e610",
   "metadata": {},
   "outputs": [
    {
     "name": "stdout",
     "output_type": "stream",
     "text": [
      "Net input: 2.2\n"
     ]
    }
   ],
   "source": [
    "z = 0\n",
    "for i in range(len(x)):\n",
    "    z+=x[i]*w[i]\n",
    "    \n",
    "print(\"Net input:\", z)"
   ]
  },
  {
   "cell_type": "code",
   "execution_count": 5,
   "id": "32f0829a-f138-4f53-8ed6-8d507ea85bf1",
   "metadata": {},
   "outputs": [
    {
     "name": "stdout",
     "output_type": "stream",
     "text": [
      "Net input: 2.2\n"
     ]
    }
   ],
   "source": [
    "z = sum([x_i*w_i for x_i, w_i in zip(x,w)]) #list comprehension\n",
    "print(\"Net input:\",z)"
   ]
  },
  {
   "cell_type": "code",
   "execution_count": 7,
   "id": "d1144195-cadf-4c13-82f4-53338d679dfe",
   "metadata": {},
   "outputs": [
    {
     "name": "stdout",
     "output_type": "stream",
     "text": [
      "Net input: 2.2\n",
      "Net input: 2.2\n"
     ]
    }
   ],
   "source": [
    "import numpy as np\n",
    "\n",
    "x_vec, w_vec = np.array(x), np.array(w)\n",
    "\n",
    "z = (x_vec.transpose()).dot(w_vec) # x_vec.T can also be written\n",
    "print(\"Net input:\",z)\n",
    "\n",
    "z = x_vec.dot(w_vec)\n",
    "print(\"Net input:\",z)"
   ]
  },
  {
   "cell_type": "code",
   "execution_count": null,
   "id": "877dc923-0bb6-44dd-a71a-5fa5c2873a4d",
   "metadata": {},
   "outputs": [],
   "source": []
  }
 ],
 "metadata": {
  "kernelspec": {
   "display_name": "Python 3",
   "language": "python",
   "name": "python3"
  },
  "language_info": {
   "codemirror_mode": {
    "name": "ipython",
    "version": 3
   },
   "file_extension": ".py",
   "mimetype": "text/x-python",
   "name": "python",
   "nbconvert_exporter": "python",
   "pygments_lexer": "ipython3",
   "version": "3.8.8"
  }
 },
 "nbformat": 4,
 "nbformat_minor": 5
}
