{
 "cells": [
  {
   "cell_type": "code",
   "execution_count": 74,
   "id": "8c68b96c-9be0-4c6e-b913-f297e9da01bc",
   "metadata": {},
   "outputs": [],
   "source": [
    "## Perceptron"
   ]
  },
  {
   "cell_type": "code",
   "execution_count": 91,
   "id": "e80e7129-f4d7-4730-af42-654a59f9e3ca",
   "metadata": {},
   "outputs": [],
   "source": [
    "import numpy as np\n",
    "import matplotlib.pyplot as plt\n",
    "%matplotlib inline"
   ]
  },
  {
   "cell_type": "code",
   "execution_count": 92,
   "id": "5bde7818-e5d7-4d27-a6a1-8c2a1b8122bd",
   "metadata": {},
   "outputs": [],
   "source": [
    "data = np.genfromtxt('perceptron_data.txt', delimiter='\\t')\n",
    "X, y = data[:,:2], data[:,2]\n",
    "y = y.astype(int)"
   ]
  },
  {
   "cell_type": "code",
   "execution_count": 93,
   "id": "fa918c25-a265-4ba0-b651-ac8fdf574730",
   "metadata": {},
   "outputs": [
    {
     "name": "stdout",
     "output_type": "stream",
     "text": [
      "Class label count: [50 50]\n",
      "X.shape: (100, 2)\n",
      "y.shape: (100,)\n"
     ]
    }
   ],
   "source": [
    "print(\"Class label count:\",np.bincount(y))\n",
    "print(\"X.shape:\",X.shape)\n",
    "print(\"y.shape:\",y.shape)"
   ]
  },
  {
   "cell_type": "code",
   "execution_count": 94,
   "id": "8f56ef5e-50c4-49b3-8de1-034fc48935e7",
   "metadata": {},
   "outputs": [],
   "source": [
    "shuffle_idx = np.arange(y.shape[0])\n",
    "shuffle_rng = np.random.RandomState(123)\n",
    "shuffle_rng.shuffle(shuffle_idx)\n",
    "X,y = X[shuffle_idx], y[shuffle_idx]"
   ]
  },
  {
   "cell_type": "code",
   "execution_count": 95,
   "id": "7d82739e-f669-4934-81f6-8d008485c414",
   "metadata": {},
   "outputs": [],
   "source": [
    "X_train, X_test = X[shuffle_idx[:70]], X[shuffle_idx[70:]]\n",
    "y_train, y_test = y[shuffle_idx[:70]], y[shuffle_idx[70:]]"
   ]
  },
  {
   "cell_type": "code",
   "execution_count": 96,
   "id": "21116e40-f0dc-4244-808f-739ca9f2d532",
   "metadata": {},
   "outputs": [],
   "source": [
    "mu, sigma = X_train.mean(axis=0), X_train.std(axis=0)\n",
    "X_train = (X_train - mu) / sigma\n",
    "X_test = (X_test - mu) / sigma"
   ]
  },
  {
   "cell_type": "code",
   "execution_count": 97,
   "id": "a111a688-4a54-4229-8b64-223697758d42",
   "metadata": {},
   "outputs": [
    {
     "data": {
      "text/plain": [
       "array([1.37001499, 0.89400639])"
      ]
     },
     "execution_count": 97,
     "metadata": {},
     "output_type": "execute_result"
    }
   ],
   "source": [
    "X_train[0]"
   ]
  },
  {
   "cell_type": "code",
   "execution_count": 98,
   "id": "045c3acf-a7f1-4862-b48b-2e45001c6284",
   "metadata": {},
   "outputs": [
    {
     "data": {
      "image/png": "[encoded data removed]",
      "text/plain": [
       "<Figure size 432x288 with 1 Axes>"
      ]
     },
     "metadata": {
      "needs_background": "light"
     },
     "output_type": "display_data"
    }
   ],
   "source": [
    "plt.scatter(X_train[y_train==0,0],X_train[y_train==0,1], label = 'class 0', marker = 'o') # [Taking X_train's feature where y_train is 0, X_train's first feature or second feature] \n",
    "plt.scatter(X_train[y_train==1,0],X_train[y_train==1,1], label = 'class 1', marker = 's')\n",
    "plt.title(\"Training set\")\n",
    "plt.xlabel(\"Feature 1\")\n",
    "plt.ylabel(\"Feature 2\")\n",
    "plt.xlim([-3,3])\n",
    "plt.ylim([-3,3])\n",
    "plt.legend()\n",
    "plt.show()"
   ]
  },
  {
   "cell_type": "code",
   "execution_count": 99,
   "id": "d448bcfe-7e0e-4134-af04-c26973628da2",
   "metadata": {},
   "outputs": [
    {
     "data": {
      "image/png": "[encoded data removed]",
      "text/plain": [
       "<Figure size 432x288 with 1 Axes>"
      ]
     },
     "metadata": {
      "needs_background": "light"
     },
     "output_type": "display_data"
    }
   ],
   "source": [
    "plt.scatter(X_test[y_test==0,0], X_test[y_test==0,1], label = 'class 0', marker = 'o')\n",
    "plt.scatter(X_test[y_test==1,0], X_test[y_test==1,1], label = 'class 1', marker = 's')\n",
    "plt.title(\"Test Set\")\n",
    "plt.xlabel(\"Feature 1\")\n",
    "plt.ylabel(\"Feature 2\")\n",
    "plt.xlim([-3,3])\n",
    "plt.ylim([-3,3])\n",
    "plt.legend()\n",
    "plt.show()"
   ]
  },
  {
   "cell_type": "code",
   "execution_count": 100,
   "id": "9c1cecb4-2027-470e-8e95-a2e1df81464f",
   "metadata": {},
   "outputs": [],
   "source": [
    "class Perceptron():\n",
    "    def __init__(self, features):\n",
    "        self.features = features\n",
    "        self.weights = np.zeros((features,1), dtype = float)\n",
    "        self.bias = np.zeros(1,dtype = float)\n",
    "        \n",
    "    def forward(self,x):\n",
    "        linear = np.dot(x,self.weights) + self.bias\n",
    "        predictions = np.where(linear > 0., 1, 0) # threshold function: If linear > 0. output: 1 else 0\n",
    "        return predictions\n",
    "    \n",
    "    def backward(self,x,y):\n",
    "        predictions = self.forward(x)\n",
    "        errors = y - predictions\n",
    "        return errors\n",
    "    \n",
    "    def train(self,x,y,epochs):\n",
    "        for i in range(epochs):\n",
    "            \n",
    "            for j in range(x.shape[0]):\n",
    "                errors = self.backward(x[j].reshape(1, self.features),y[j]).reshape(-1) # Reshape to match for computation\n",
    "                self.weights += (errors*x[i]).reshape(self.features,1) # Reshaping back to original shape\n",
    "                self.bias += errors\n",
    "    \n",
    "    def evaluate(self, x, y):\n",
    "        predictions = self.forward(x).reshape(-1)\n",
    "        accuracy = np.sum(predictions == y) / y.shape[0]\n",
    "        return accuracy"
   ]
  },
  {
   "cell_type": "code",
   "execution_count": 104,
   "id": "b90df288-7f34-4ec3-976a-13cb2b2b6799",
   "metadata": {},
   "outputs": [
    {
     "name": "stdout",
     "output_type": "stream",
     "text": [
      "Model Parameters:\n",
      "Weights: [[5.78772653]\n",
      " [1.80709465]]\n",
      "Bias: [-2.]\n"
     ]
    }
   ],
   "source": [
    "percep = Perceptron(features = 2)\n",
    "\n",
    "percep.train(X_train, y_train, epochs = 5)\n",
    "\n",
    "print(\"Model Parameters:\")\n",
    "print(f\"Weights:\",percep.weights)\n",
    "print(f\"Bias:\",percep.bias)"
   ]
  },
  {
   "cell_type": "code",
   "execution_count": 105,
   "id": "afc9307a-dc45-4ff7-a3b1-846a5cfcf3f1",
   "metadata": {},
   "outputs": [
    {
     "name": "stdout",
     "output_type": "stream",
     "text": [
      "Train accuracy: 100.0\n"
     ]
    }
   ],
   "source": [
    "train_acc = percep.evaluate(X_train,y_train)\n",
    "print(\"Train accuracy:\",train_acc*100)"
   ]
  },
  {
   "cell_type": "code",
   "execution_count": 111,
   "id": "2e0e2aae-9181-4a80-986c-ffc770f4135b",
   "metadata": {},
   "outputs": [
    {
     "name": "stdout",
     "output_type": "stream",
     "text": [
      "Test accuracy: 100.0\n"
     ]
    }
   ],
   "source": [
    "test_acc = percep.evaluate(X_test,y_test)\n",
    "print(f\"Test accuracy:\",test_acc*100)"
   ]
  },
  {
   "cell_type": "code",
   "execution_count": 118,
   "id": "183353d6-a70a-4857-9755-daae70310355",
   "metadata": {},
   "outputs": [
    {
     "data": {
      "image/png": "[encoded data removed]",
      "text/plain": [
       "<Figure size 504x216 with 2 Axes>"
      ]
     },
     "metadata": {
      "needs_background": "light"
     },
     "output_type": "display_data"
    }
   ],
   "source": [
    "w, b = percep.weights, percep.bias\n",
    "\n",
    "x0_min = -1\n",
    "x1_min = ( (-(w[0] * x0_min) - b[0]) / w[1] )\n",
    "\n",
    "x0_max = 1\n",
    "x1_max = ( (-(w[0] * x0_max) - b[0]) / w[1] )\n",
    "\n",
    "\n",
    "fig, ax = plt.subplots(1, 2, sharex=True, figsize=(7, 3))\n",
    "\n",
    "ax[0].plot([x0_min, x0_max], [x1_min, x1_max])\n",
    "ax[0].scatter(X_train[y_train==0, 0], X_train[y_train==0, 1], label='class 0', marker='o')\n",
    "ax[0].scatter(X_train[y_train==1, 0], X_train[y_train==1, 1], label='class 1', marker='s')\n",
    "\n",
    "ax[1].plot([x0_min, x0_max], [x1_min, x1_max])\n",
    "ax[1].scatter(X_test[y_test==0, 0], X_test[y_test==0, 1], label='class 0', marker='o')\n",
    "ax[1].scatter(X_test[y_test==1, 0], X_test[y_test==1, 1], label='class 1', marker='s')\n",
    "\n",
    "ax[1].legend()\n",
    "plt.show()"
   ]
  },
  {
   "cell_type": "code",
   "execution_count": null,
   "id": "df67986c-570d-4b20-99fc-f9c99f0909af",
   "metadata": {},
   "outputs": [],
   "source": []
  }
 ],
 "metadata": {
  "kernelspec": {
   "display_name": "Python 3",
   "language": "python",
   "name": "python3"
  },
  "language_info": {
   "codemirror_mode": {
    "name": "ipython",
    "version": 3
   },
   "file_extension": ".py",
   "mimetype": "text/x-python",
   "name": "python",
   "nbconvert_exporter": "python",
   "pygments_lexer": "ipython3",
   "version": "3.8.8"
  }
 },
 "nbformat": 4,
 "nbformat_minor": 5
}
