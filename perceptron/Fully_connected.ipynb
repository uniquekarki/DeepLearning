{
 "cells": [
  {
   "cell_type": "code",
   "execution_count": 1,
   "id": "8a8012a0-f5ff-4829-999a-b2a94065da52",
   "metadata": {},
   "outputs": [],
   "source": [
    "import numpy as np\n",
    "import torch\n",
    "import matplotlib.pyplot as plt\n",
    "%matplotlib inline"
   ]
  },
  {
   "cell_type": "code",
   "execution_count": 2,
   "id": "d216218b-a355-409b-a4ca-7f70d0976f62",
   "metadata": {},
   "outputs": [],
   "source": [
    "data = np.genfromtxt('perceptron_data.txt', delimiter = '\\t')\n",
    "X, y = data[:,:2],data[:,2]\n",
    "y = y.astype(int)"
   ]
  },
  {
   "cell_type": "code",
   "execution_count": 3,
   "id": "1d37c596-46fe-4c59-b3ec-2e6ac9898a7c",
   "metadata": {},
   "outputs": [],
   "source": [
    "shuffle_idx = np.arange(y.shape[0])\n",
    "shuffle_rng = np.random.RandomState(123)\n",
    "shuffle_rng.shuffle(shuffle_idx)\n",
    "X,y = X[shuffle_idx], y[shuffle_idx]"
   ]
  },
  {
   "cell_type": "code",
   "execution_count": 4,
   "id": "cb1ab005-1ec4-4b9a-93a8-d7fb6cf147a7",
   "metadata": {},
   "outputs": [],
   "source": [
    "X_train, X_test = X[shuffle_idx[:70]], X[shuffle_idx[70:]]\n",
    "y_train, y_test = y[shuffle_idx[:70]], y[shuffle_idx[70:]]"
   ]
  },
  {
   "cell_type": "code",
   "execution_count": 5,
   "id": "121a902c-05cb-4828-9ac2-53b51d6b3b7f",
   "metadata": {},
   "outputs": [],
   "source": [
    "mu, sigma = X_train.mean(axis=0), X_train.std(axis=0)\n",
    "X_train = (X_train - mu) / sigma\n",
    "X_test = (X_test - mu) / sigma"
   ]
  },
  {
   "cell_type": "code",
   "execution_count": 6,
   "id": "b90a429c-c263-4c74-a7e7-32e9c33c2d36",
   "metadata": {},
   "outputs": [
    {
     "name": "stderr",
     "output_type": "stream",
     "text": [
      "/home/unique/anaconda3/envs/dl/lib/python3.8/site-packages/torch/cuda/__init__.py:52: UserWarning: CUDA initialization: The NVIDIA driver on your system is too old (found version 9010). Please update your GPU driver by downloading and installing a new version from the URL: http://www.nvidia.com/Download/index.aspx Alternatively, go to: https://pytorch.org to install a PyTorch version that has been compiled with your version of the CUDA driver. (Triggered internally at  /pytorch/c10/cuda/CUDAFunctions.cpp:100.)\n",
      "  return torch._C._cuda_getDeviceCount() > 0\n"
     ]
    }
   ],
   "source": [
    "device = torch.device(\"cuda:0\" if torch.cuda.is_available() else \"cpu\")\n",
    "\n",
    "X_train_tensor = torch.tensor(X_train, dtype = torch.float32, device = device) \n",
    "X_test_tensor = torch.tensor(X_test, dtype = torch.float32, device = device)\n",
    "\n",
    "y_train_tensor = torch.tensor(y_train, dtype = torch.float32, device = device)\n",
    "y_test_tensor = torch.tensor(y_test, dtype = torch.float32, device = device)"
   ]
  },
  {
   "cell_type": "code",
   "execution_count": 7,
   "id": "df91b715-915f-4d40-996d-9c009a2d66b7",
   "metadata": {},
   "outputs": [],
   "source": [
    "fc_layer = torch.nn.Linear(in_features = 2, out_features = 2)"
   ]
  },
  {
   "cell_type": "code",
   "execution_count": 8,
   "id": "f04017f6-c57d-4928-854c-cb66f40b8d99",
   "metadata": {},
   "outputs": [
    {
     "data": {
      "text/plain": [
       "Parameter containing:\n",
       "tensor([[-0.4956,  0.4585],\n",
       "        [ 0.6660,  0.3142]], requires_grad=True)"
      ]
     },
     "execution_count": 8,
     "metadata": {},
     "output_type": "execute_result"
    }
   ],
   "source": [
    "fc_layer.weight"
   ]
  },
  {
   "cell_type": "code",
   "execution_count": 9,
   "id": "9e6ab292-6dfb-45b2-80f7-0f27caa26d94",
   "metadata": {},
   "outputs": [
    {
     "data": {
      "text/plain": [
       "Parameter containing:\n",
       "tensor([ 0.4611, -0.0327], requires_grad=True)"
      ]
     },
     "execution_count": 9,
     "metadata": {},
     "output_type": "execute_result"
    }
   ],
   "source": [
    "fc_layer.bias"
   ]
  },
  {
   "cell_type": "code",
   "execution_count": 10,
   "id": "a076070b-b8ed-4c55-a44a-5e3ae632b14e",
   "metadata": {},
   "outputs": [
    {
     "name": "stdout",
     "output_type": "stream",
     "text": [
      "X Dimension: torch.Size([70, 2])\n",
      "W Dimension: torch.Size([2, 2])\n",
      "b Dimension: torch.Size([2])\n"
     ]
    }
   ],
   "source": [
    "print(\"X Dimension:\",X_train_tensor.shape)\n",
    "print(\"W Dimension:\",fc_layer.weight.shape)\n",
    "print(\"b Dimension:\",fc_layer.bias.shape)"
   ]
  },
  {
   "cell_type": "code",
   "execution_count": 12,
   "id": "0e8307ed-b4df-4591-b0a8-23f18b3cac59",
   "metadata": {},
   "outputs": [
    {
     "name": "stdout",
     "output_type": "stream",
     "text": [
      "A Dimension: torch.Size([70, 2])\n"
     ]
    }
   ],
   "source": [
    "A = fc_layer(X_train_tensor)\n",
    "print(\"A Dimension:\", A.shape)"
   ]
  },
  {
   "cell_type": "code",
   "execution_count": null,
   "id": "08e6b2b3-8d73-498a-a996-ddec41ee0639",
   "metadata": {},
   "outputs": [],
   "source": []
  }
 ],
 "metadata": {
  "kernelspec": {
   "display_name": "Python 3",
   "language": "python",
   "name": "python3"
  },
  "language_info": {
   "codemirror_mode": {
    "name": "ipython",
    "version": 3
   },
   "file_extension": ".py",
   "mimetype": "text/x-python",
   "name": "python",
   "nbconvert_exporter": "python",
   "pygments_lexer": "ipython3",
   "version": "3.8.8"
  }
 },
 "nbformat": 4,
 "nbformat_minor": 5
}
